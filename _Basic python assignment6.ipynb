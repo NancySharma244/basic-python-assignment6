{
 "cells": [
  {
   "cell_type": "markdown",
   "id": "6c1f0905",
   "metadata": {},
   "source": [
    "1. What are escape characters, and how do you use them?\n",
    "    Escape characters represent characters in string values that would otherwise be difficult or impossible to type into       code"
   ]
  },
  {
   "cell_type": "markdown",
   "id": "32df29df",
   "metadata": {},
   "source": [
    "2. What do the escape characters n and t stand for?\n",
    "   \"\\t\" is a tab, \"\\n\" is a newline."
   ]
  },
  {
   "cell_type": "markdown",
   "id": "3fb941ec",
   "metadata": {},
   "source": [
    "3. What is the way to include backslash characters in a string?\n",
    "   To insert characters that are illegal in a string, use an escape character. An escape character is a backslash \\            followed by the character you want to insert."
   ]
  },
  {
   "cell_type": "markdown",
   "id": "5ef463a1",
   "metadata": {},
   "source": [
    "4. The string \"Howl's Moving Castle\" is a correct value. Why isn't the single quote character in the word Howl's not          escaped a problem?\n",
    "   The single quote in Howl's is fine because you've used double quotes to mark the beginning and end of the string."
   ]
  },
  {
   "cell_type": "markdown",
   "id": "aabfed06",
   "metadata": {},
   "source": [
    "5. How do you write a string of newlines if you don't want to use the n character?\n",
    "   The new line character “\\n” is used to create a new line."
   ]
  },
  {
   "cell_type": "markdown",
   "id": "fb26499c",
   "metadata": {},
   "source": [
    "6. What are the values of the given expressions?\n",
    "   'Hello, world!'[1]\n",
    "   'Hello, world!'[0:5]\n",
    "   'Hello, world!'[:5]\n",
    "   'Hello, world!'[3:]\n",
    "   The expressions evaluate to the following:\n",
    "\n",
    "   'e'\n",
    "\n",
    "   'Hello'\n",
    "\n",
    "   'Hello'\n",
    "\n",
    "   'lo world!"
   ]
  },
  {
   "cell_type": "markdown",
   "id": "206ece61",
   "metadata": {},
   "source": [
    "7. What are the values of the following expressions?\n",
    "   'Hello'.upper()\n",
    "   'Hello'.upper().isupper()\n",
    "   'Hello'.upper().lower()\n",
    "   The expressions evaluate to the following:\n",
    "\n",
    "   'HELLO'\n",
    "\n",
    "   True\n",
    "\n",
    "   'hello'"
   ]
  },
  {
   "cell_type": "markdown",
   "id": "965b0ee4",
   "metadata": {},
   "source": [
    "8. What are the values of the following expressions?\n",
    "   'Remember, remember, the fifth of July.'.split()\n",
    "   '-'.join('There can only one.'.split())\n",
    "   \n",
    "   The expressions evaluate to the following:\n",
    "\n",
    "   ['Remember,', 'remember,', 'the', 'fifth', 'of', 'November.']\n",
    "\n",
    "   'There-can-be-only-one."
   ]
  },
  {
   "cell_type": "markdown",
   "id": "4a3dec6e",
   "metadata": {},
   "source": [
    "9. What are the methods for right-justifying, left-justifying, and centering a string?\n",
    "   The rjust(), ljust(), and center() string methods, respectively."
   ]
  },
  {
   "cell_type": "markdown",
   "id": "2008216f",
   "metadata": {},
   "source": [
    "10. What is the best way to remove whitespace characters from the start or end?\n",
    "    The lstrip() and rstrip() methods remove whitespace from the left and right ends of a string, respectively."
   ]
  }
 ],
 "metadata": {
  "kernelspec": {
   "display_name": "Python 3 (ipykernel)",
   "language": "python",
   "name": "python3"
  },
  "language_info": {
   "codemirror_mode": {
    "name": "ipython",
    "version": 3
   },
   "file_extension": ".py",
   "mimetype": "text/x-python",
   "name": "python",
   "nbconvert_exporter": "python",
   "pygments_lexer": "ipython3",
   "version": "3.9.7"
  }
 },
 "nbformat": 4,
 "nbformat_minor": 5
}
